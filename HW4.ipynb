{
 "cells": [
  {
   "cell_type": "code",
   "execution_count": 2,
   "metadata": {},
   "outputs": [],
   "source": [
    "import numpy as np\n",
    "import matplotlib.pyplot as plt"
   ]
  },
  {
   "cell_type": "code",
   "execution_count": 9,
   "metadata": {},
   "outputs": [
    {
     "name": "stdout",
     "output_type": "stream",
     "text": [
      "mean free path in moderater:  0.16666666666666666  cm\n",
      "1.5  r/mfp\n",
      "2.5  p/r\n"
     ]
    }
   ],
   "source": [
    "d = 0.5\n",
    "pitch = 0.625\n",
    "N_X = 2e22 # /cm^3\n",
    "N_H1 = 3e23 \n",
    "sig_pH = 20*1e-24 # cm^2 \n",
    "p = 0.625\n",
    "\n",
    "mfp_mod = 1/(N_H1*sig_pH)\n",
    "print('mean free path in moderater: ', mfp_mod, ' cm')\n",
    "print(d/(2*mfp_mod), ' r/mfp')\n",
    "print(p/(d/2), ' p/r')\n",
    "C = 0.5/3 # from plot\n",
    "\n",
    "def get_alpha1(C):\n",
    "    A = (1-C)/C\n",
    "    top = (5*A + 6) - np.sqrt(A**2 + 36*A + 36)\n",
    "    return top / (2*(A+1))\n",
    "\n",
    "def get_alpha2(C):\n",
    "    A = (1-C)/C\n",
    "    top = (5*A + 6) + np.sqrt(A**2 + 36*A + 36)\n",
    "    return top / (2*(A+1))\n",
    "\n",
    "def get_beta(C):\n",
    "    A = (1-C)/C\n",
    "    alpha1 = get_alpha1(C)\n",
    "    alpha2 = get_alpha2(C)\n",
    "    term1 = (4*A + 6)/(A+1) - alpha1\n",
    "    return term1 / (alpha2-alpha1)\n",
    "\n",
    "\n",
    "\n"
   ]
  },
  {
   "cell_type": "code",
   "execution_count": 8,
   "metadata": {},
   "outputs": [
    {
     "data": {
      "text/plain": [
       "0.16666666666666666"
      ]
     },
     "execution_count": 8,
     "metadata": {},
     "output_type": "execute_result"
    }
   ],
   "source": []
  }
 ],
 "metadata": {
  "kernelspec": {
   "display_name": "base",
   "language": "python",
   "name": "python3"
  },
  "language_info": {
   "codemirror_mode": {
    "name": "ipython",
    "version": 3
   },
   "file_extension": ".py",
   "mimetype": "text/x-python",
   "name": "python",
   "nbconvert_exporter": "python",
   "pygments_lexer": "ipython3",
   "version": "3.8.8"
  }
 },
 "nbformat": 4,
 "nbformat_minor": 2
}
